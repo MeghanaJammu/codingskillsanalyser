{
 "cells": [
  {
   "cell_type": "markdown",
   "id": "49952edb-c3c1-4b93-89c1-94bfd109bef5",
   "metadata": {},
   "source": [
    "#### 1. import libraries"
   ]
  },
  {
   "cell_type": "code",
   "execution_count": 1,
   "id": "31d9accd-a040-40d1-8144-8b50813667ec",
   "metadata": {},
   "outputs": [],
   "source": [
    "import pandas as pd\n",
    "import numpy as np\n",
    "from sklearn.model_selection import train_test_split\n",
    "from sklearn.feature_extraction.text import TfidfVectorizer\n",
    "from sklearn.preprocessing import MultiLabelBinarizer, OneHotEncoder\n",
    "from sklearn.linear_model import LogisticRegression\n",
    "from sklearn.neural_network import MLPClassifier\n",
    "from sklearn.metrics import classification_report, accuracy_score"
   ]
  },
  {
   "cell_type": "code",
   "execution_count": 2,
   "id": "b598ac71-c18d-4807-9ee6-4fbd1255dc54",
   "metadata": {},
   "outputs": [
    {
     "data": {
      "text/html": [
       "<div>\n",
       "<style scoped>\n",
       "    .dataframe tbody tr th:only-of-type {\n",
       "        vertical-align: middle;\n",
       "    }\n",
       "\n",
       "    .dataframe tbody tr th {\n",
       "        vertical-align: top;\n",
       "    }\n",
       "\n",
       "    .dataframe thead th {\n",
       "        text-align: right;\n",
       "    }\n",
       "</style>\n",
       "<table border=\"1\" class=\"dataframe\">\n",
       "  <thead>\n",
       "    <tr style=\"text-align: right;\">\n",
       "      <th></th>\n",
       "      <th>code</th>\n",
       "      <th>complexity</th>\n",
       "      <th>tags</th>\n",
       "      <th>code_length</th>\n",
       "    </tr>\n",
       "  </thead>\n",
       "  <tbody>\n",
       "    <tr>\n",
       "      <th>0</th>\n",
       "      <td>from math import sqrt a, v = map(int, input()....</td>\n",
       "      <td>constant</td>\n",
       "      <td>['implementation', 'math']</td>\n",
       "      <td>509</td>\n",
       "    </tr>\n",
       "    <tr>\n",
       "      <th>1</th>\n",
       "      <td>from math import * a, vm = map(int, input().sp...</td>\n",
       "      <td>constant</td>\n",
       "      <td>['implementation', 'math']</td>\n",
       "      <td>614</td>\n",
       "    </tr>\n",
       "    <tr>\n",
       "      <th>2</th>\n",
       "      <td>import os import sys from io import BytesIO, I...</td>\n",
       "      <td>constant</td>\n",
       "      <td>['implementation', 'math']</td>\n",
       "      <td>1999</td>\n",
       "    </tr>\n",
       "    <tr>\n",
       "      <th>3</th>\n",
       "      <td>from math import * a, vm = map(int, input().sp...</td>\n",
       "      <td>constant</td>\n",
       "      <td>['implementation', 'math']</td>\n",
       "      <td>614</td>\n",
       "    </tr>\n",
       "    <tr>\n",
       "      <th>4</th>\n",
       "      <td>from math import * a,v=list(map(int,input().sp...</td>\n",
       "      <td>constant</td>\n",
       "      <td>['implementation', 'math']</td>\n",
       "      <td>432</td>\n",
       "    </tr>\n",
       "  </tbody>\n",
       "</table>\n",
       "</div>"
      ],
      "text/plain": [
       "                                                code complexity  \\\n",
       "0  from math import sqrt a, v = map(int, input()....   constant   \n",
       "1  from math import * a, vm = map(int, input().sp...   constant   \n",
       "2  import os import sys from io import BytesIO, I...   constant   \n",
       "3  from math import * a, vm = map(int, input().sp...   constant   \n",
       "4  from math import * a,v=list(map(int,input().sp...   constant   \n",
       "\n",
       "                         tags  code_length  \n",
       "0  ['implementation', 'math']          509  \n",
       "1  ['implementation', 'math']          614  \n",
       "2  ['implementation', 'math']         1999  \n",
       "3  ['implementation', 'math']          614  \n",
       "4  ['implementation', 'math']          432  "
      ]
     },
     "execution_count": 2,
     "metadata": {},
     "output_type": "execute_result"
    }
   ],
   "source": [
    "df = pd.read_csv(\"Final_cleaned_code_dataset.csv\")\n",
    "df.head()"
   ]
  },
  {
   "cell_type": "markdown",
   "id": "7e532234-2845-4e00-8a39-dcc03eade39b",
   "metadata": {},
   "source": [
    "#### 2. Encode Complexity"
   ]
  },
  {
   "cell_type": "code",
   "execution_count": 3,
   "id": "9d6ff14c-1ef7-46a4-a32e-27441863d1c2",
   "metadata": {},
   "outputs": [
    {
     "name": "stdout",
     "output_type": "stream",
     "text": [
      "TC classes: ['constant' 'cubic' 'linear' 'np' 'quadratic']\n"
     ]
    }
   ],
   "source": [
    "from sklearn.preprocessing import LabelEncoder\n",
    "label_encoder = LabelEncoder()\n",
    "y_tc= label_encoder.fit_transform(df['complexity'])\n",
    "print(\"TC classes:\", label_encoder.classes_)"
   ]
  },
  {
   "cell_type": "markdown",
   "id": "cdb1254f-2135-41bc-9220-13323db9d2f4",
   "metadata": {},
   "source": [
    "#### 3. Encode topics (multi-label)"
   ]
  },
  {
   "cell_type": "code",
   "execution_count": 4,
   "id": "b3f0b401-3211-4fe1-bad0-61e2314ff562",
   "metadata": {},
   "outputs": [],
   "source": [
    "import ast\n",
    "def parse_topics(topic_str):\n",
    "    try:\n",
    "        #  string of list \"['implementation', 'math']\" to actual Python list\n",
    "        topics = ast.literal_eval(topic_str)\n",
    "        # Make lowercase and strip spaces\n",
    "        topics = [t.strip().lower() for t in topics if t.strip()]\n",
    "        return topics\n",
    "    except:\n",
    "        return []\n",
    "\n",
    "df['tags'] = df['tags'].apply(parse_topics)"
   ]
  },
  {
   "cell_type": "code",
   "execution_count": 5,
   "id": "8b2ca2fc-f1ec-4e47-a533-dc2e5c3eb85b",
   "metadata": {},
   "outputs": [
    {
     "name": "stdout",
     "output_type": "stream",
     "text": [
      "Topics classes: ['2-sat' 'binary search' 'bitmasks' 'brute force' 'combinatorics'\n",
      " 'constructive algorithms' 'data structures' 'dfs and similar'\n",
      " 'divide and conquer' 'dp' 'dsu' 'expression parsing' 'flows' 'games'\n",
      " 'geometry' 'graph matchings' 'graphs' 'greedy' 'hashing' 'implementation'\n",
      " 'interactive' 'math' 'meet-in-the-middle' 'number theory' 'probabilities'\n",
      " 'shortest paths' 'sortings' 'strings' 'trees' 'two pointers']\n"
     ]
    }
   ],
   "source": [
    "mlb = MultiLabelBinarizer()\n",
    "y_topics = mlb.fit_transform(df['tags'])\n",
    "print(\"Topics classes:\", mlb.classes_)"
   ]
  },
  {
   "cell_type": "markdown",
   "id": "512427e4-6174-4b36-92bc-e43d2e575da5",
   "metadata": {},
   "source": [
    "#### 4. TF-IDF for code"
   ]
  },
  {
   "cell_type": "code",
   "execution_count": 6,
   "id": "daba5c96-c9df-49b0-ac86-e200322bf878",
   "metadata": {},
   "outputs": [
    {
     "name": "stdout",
     "output_type": "stream",
     "text": [
      "Code TF-IDF shape: (3309, 3000)\n"
     ]
    }
   ],
   "source": [
    "tfidf = TfidfVectorizer(max_features=3000)\n",
    "X_code = tfidf.fit_transform(df['code'])\n",
    "print(\"Code TF-IDF shape:\", X_code.shape)"
   ]
  },
  {
   "cell_type": "markdown",
   "id": "d8500865-03e7-4601-9448-e519d6d2447c",
   "metadata": {},
   "source": [
    "#### 5. Combine code + tags features as input"
   ]
  },
  {
   "cell_type": "code",
   "execution_count": 7,
   "id": "057788fb-33bb-4082-b7a4-b6afa1301d42",
   "metadata": {},
   "outputs": [
    {
     "name": "stdout",
     "output_type": "stream",
     "text": [
      "Combined feature shape: (3309, 3030)\n"
     ]
    }
   ],
   "source": [
    "from scipy.sparse import hstack\n",
    "\n",
    "X = hstack([X_code, y_topics])\n",
    "print(\"Combined feature shape:\", X.shape)\n",
    "\n",
    "# 3000 col from code(TF-IDF) and 30 from tags"
   ]
  },
  {
   "cell_type": "markdown",
   "id": "ba59b88d-d4c9-4b90-b421-857ac14c0941",
   "metadata": {},
   "source": [
    "#### 6. Train-test split"
   ]
  },
  {
   "cell_type": "code",
   "execution_count": 8,
   "id": "8e42b0fc-c0eb-42f8-892a-8ea38a43a870",
   "metadata": {},
   "outputs": [
    {
     "name": "stdout",
     "output_type": "stream",
     "text": [
      "Train shape: (2647, 3000) Test shape: (662, 3000)\n"
     ]
    }
   ],
   "source": [
    "X_train, X_test, y_train, y_test = train_test_split(X_code, y_tc, test_size=0.2, random_state=42, stratify=y_tc)\n",
    "print(\"Train shape:\", X_train.shape, \"Test shape:\", X_test.shape)\n",
    "\n",
    "# 80% train and 20% test"
   ]
  },
  {
   "cell_type": "markdown",
   "id": "40d22959-656b-4061-a587-3e500941a130",
   "metadata": {},
   "source": [
    "#### 7. Logistic Regression"
   ]
  },
  {
   "cell_type": "code",
   "execution_count": 9,
   "id": "1bc48efc-56e6-4838-b3d8-fef8adff29a4",
   "metadata": {},
   "outputs": [
    {
     "name": "stdout",
     "output_type": "stream",
     "text": [
      "=== Logistic Regression ===\n",
      "Accuracy: 0.6253776435045317\n",
      "              precision    recall  f1-score   support\n",
      "\n",
      "           0       0.83      0.82      0.83       154\n",
      "           1       0.65      0.66      0.66       115\n",
      "           2       0.52      0.47      0.50       165\n",
      "           3       0.70      0.59      0.64       100\n",
      "           4       0.47      0.59      0.52       128\n",
      "\n",
      "    accuracy                           0.63       662\n",
      "   macro avg       0.64      0.63      0.63       662\n",
      "weighted avg       0.63      0.63      0.63       662\n",
      "\n"
     ]
    }
   ],
   "source": [
    "log_reg = LogisticRegression(max_iter=500, class_weight='balanced')\n",
    "log_reg.fit(X_train, y_train)\n",
    "y_pred_lr = log_reg.predict(X_test)\n",
    "\n",
    "print(\"=== Logistic Regression ===\")\n",
    "print(\"Accuracy:\", accuracy_score(y_test, y_pred_lr))\n",
    "print(classification_report(y_test, y_pred_lr))"
   ]
  },
  {
   "cell_type": "markdown",
   "id": "c2694ece-32f5-4f86-8407-083ca3fca212",
   "metadata": {},
   "source": [
    "#### 8. MLP Classifier"
   ]
  },
  {
   "cell_type": "code",
   "execution_count": 10,
   "id": "3d327783-30a4-48e5-a42d-69e3925edb5e",
   "metadata": {},
   "outputs": [
    {
     "name": "stdout",
     "output_type": "stream",
     "text": [
      "=== MLP Classifier ===\n",
      "Accuracy: 0.620845921450151\n",
      "              precision    recall  f1-score   support\n",
      "\n",
      "           0       0.76      0.75      0.76       154\n",
      "           1       0.72      0.62      0.66       115\n",
      "           2       0.51      0.57      0.54       165\n",
      "           3       0.70      0.64      0.67       100\n",
      "           4       0.49      0.52      0.50       128\n",
      "\n",
      "    accuracy                           0.62       662\n",
      "   macro avg       0.64      0.62      0.63       662\n",
      "weighted avg       0.63      0.62      0.62       662\n",
      "\n"
     ]
    }
   ],
   "source": [
    "mlp = MLPClassifier(hidden_layer_sizes=(256,128), activation='relu', max_iter=500)\n",
    "mlp.fit(X_train, y_train)\n",
    "y_pred_mlp = mlp.predict(X_test)\n",
    "\n",
    "print(\"=== MLP Classifier ===\")\n",
    "print(\"Accuracy:\", accuracy_score(y_test, y_pred_mlp))\n",
    "print(classification_report(y_test, y_pred_mlp))"
   ]
  },
  {
   "cell_type": "code",
   "execution_count": 32,
   "id": "47bab401-64d8-40f6-a685-a63b4e0517ad",
   "metadata": {},
   "outputs": [],
   "source": [
    "  ## Saving the models\n",
    "import pickle\n",
    "\n",
    "with open(\"branch1_log_reg.pkl\", \"wb\") as f:\n",
    "    pickle.dump(log_reg, f)\n",
    "\n",
    "with open(\"branch1_mlp.pkl\", \"wb\") as f:\n",
    "    pickle.dump(mlp, f)\n",
    "\n",
    "with open(\"branch1_tfidf.pkl\", \"wb\") as f:\n",
    "    pickle.dump(tfidf, f)"
   ]
  },
  {
   "cell_type": "code",
   "execution_count": 34,
   "id": "c7f7dffb-4648-451d-8b3e-63f2e7ee89b2",
   "metadata": {},
   "outputs": [],
   "source": [
    "  ## Loading the models\n",
    "import pickle\n",
    "\n",
    "with open(\"branch1_log_reg.pkl\", \"rb\") as f:\n",
    "    log_reg = pickle.load(f)\n",
    "\n",
    "with open(\"branch1_mlp.pkl\", \"rb\") as f:\n",
    "    mlp = pickle.load(f)\n",
    "\n",
    "with open(\"branch1_tfidf.pkl\", \"rb\") as f:\n",
    "    tfidf = pickle.load(f)"
   ]
  },
  {
   "cell_type": "code",
   "execution_count": 35,
   "id": "7e46b5ac-5a33-45c2-a72f-bb53db48230d",
   "metadata": {},
   "outputs": [],
   "source": [
    "new_code = \"\"\"\n",
    "print('Hello, world!')\n",
    "\"\"\""
   ]
  },
  {
   "cell_type": "code",
   "execution_count": 36,
   "id": "9985626f-0342-4dd6-b6dd-db47395e1207",
   "metadata": {},
   "outputs": [
    {
     "name": "stdout",
     "output_type": "stream",
     "text": [
      "Predicted Time Complexity: constant\n"
     ]
    }
   ],
   "source": [
    "X_new = tfidf.transform([new_code])\n",
    "\n",
    "# Predict time complexity\n",
    "predicted_index = log_reg.predict(X_new)[0]\n",
    "\n",
    "# Map index to actual label\n",
    "predicted_tc = label_encoder.classes_[predicted_index]\n",
    "\n",
    "print(\"Predicted Time Complexity:\", predicted_tc)"
   ]
  },
  {
   "cell_type": "code",
   "execution_count": 37,
   "id": "30d10675-1181-4c5a-98e3-8dadabfe5326",
   "metadata": {},
   "outputs": [],
   "source": [
    "new_code = \"\"\"\n",
    "def sum_array(arr):\n",
    "    total = 0\n",
    "    for i in arr:\n",
    "        total += i\n",
    "    return total\n",
    "\"\"\""
   ]
  },
  {
   "cell_type": "code",
   "execution_count": 38,
   "id": "62bea22e-103d-4e43-a77e-b387b7fbb387",
   "metadata": {},
   "outputs": [
    {
     "name": "stdout",
     "output_type": "stream",
     "text": [
      "Predicted Time Complexity: quadratic\n"
     ]
    }
   ],
   "source": [
    "X_new = tfidf.transform([new_code])\n",
    "\n",
    "# Predict time complexity\n",
    "predicted_index = mlp.predict(X_new)[0]\n",
    "\n",
    "# Map index to actual label\n",
    "predicted_tc = label_encoder.classes_[predicted_index]\n",
    "\n",
    "print(\"Predicted Time Complexity:\", predicted_tc)"
   ]
  },
  {
   "cell_type": "markdown",
   "id": "30183a4c-972d-44b4-bc40-b6335146b2f0",
   "metadata": {},
   "source": [
    "#### Limitations of Branch 1"
   ]
  },
  {
   "cell_type": "markdown",
   "id": "55ee00ff-b07c-4ea6-a90c-a5fd4327b46d",
   "metadata": {},
   "source": [
    "1. Limited Semantic Understanding\n",
    "    Branch 1 uses TF-IDF vectorization of code, which only captures statistical patterns of tokens.\n",
    "    It does not understand loops, recursion, or nesting beyond simple patterns.\n",
    "\n",
    "2. Misclassification of Complex Code\n",
    "    Works well for simple code snippets (single loops, sequential statements).\n",
    "    Fails for nested loops, recursion, or more intricate logic, often predicting incorrect TC.\n",
    "\n",
    "3. Ambiguous Class ‘np’\n",
    "    Some predictions fall into the ‘np’ class, which represents not predictable / unclear codes.\n",
    "    This indicates that the model cannot confidently classify certain code snippets.\n",
    "\n",
    "4. Motivation for Branch 2\n",
    "    These limitations highlight the need for a semantic code understanding model like CodeT5, which can learn the structural and logical patterns of code for more accurate time complexity predictions."
   ]
  }
 ],
 "metadata": {
  "kernelspec": {
   "display_name": "Python 3 (ipykernel)",
   "language": "python",
   "name": "python3"
  },
  "language_info": {
   "codemirror_mode": {
    "name": "ipython",
    "version": 3
   },
   "file_extension": ".py",
   "mimetype": "text/x-python",
   "name": "python",
   "nbconvert_exporter": "python",
   "pygments_lexer": "ipython3",
   "version": "3.13.2"
  }
 },
 "nbformat": 4,
 "nbformat_minor": 5
}
